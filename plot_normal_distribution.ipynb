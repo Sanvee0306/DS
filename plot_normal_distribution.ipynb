{
  "nbformat": 4,
  "nbformat_minor": 0,
  "metadata": {
    "kernelspec": {
      "display_name": "Python 3",
      "language": "python",
      "name": "python3"
    },
    "language_info": {
      "codemirror_mode": {
        "name": "ipython",
        "version": 3
      },
      "file_extension": ".py",
      "mimetype": "text/x-python",
      "name": "python",
      "nbconvert_exporter": "python",
      "pygments_lexer": "ipython3",
      "version": "3.6.8"
    },
    "colab": {
      "name": "plot_normal_distribution.ipynb",
      "provenance": [],
      "include_colab_link": true
    }
  },
  "cells": [
    {
      "cell_type": "markdown",
      "metadata": {
        "id": "view-in-github",
        "colab_type": "text"
      },
      "source": [
        "<a href=\"https://colab.research.google.com/github/Sanvee0306/DS/blob/main/plot_normal_distribution.ipynb\" target=\"_parent\"><img src=\"https://colab.research.google.com/assets/colab-badge.svg\" alt=\"Open In Colab\"/></a>"
      ]
    },
    {
      "cell_type": "code",
      "metadata": {
        "id": "I_iOize-Xb0-"
      },
      "source": [
        "%matplotlib inline"
      ],
      "execution_count": 3,
      "outputs": []
    },
    {
      "cell_type": "markdown",
      "metadata": {
        "id": "oRkJZgO4Xb1C"
      },
      "source": [
        "\n",
        "=======================================\n",
        "Normal distribution: histogram and PDF\n",
        "=======================================\n",
        "\n",
        "Explore the normal distribution: a histogram built from samples and the\n",
        "PDF (probability density function).\n",
        "\n"
      ]
    },
    {
      "cell_type": "code",
      "metadata": {
        "colab": {
          "base_uri": "https://localhost:8080/",
          "height": 265
        },
        "id": "iOs5e2LCXb1D",
        "outputId": "7d4a5fe6-e0ad-4025-acaa-94466fcf81da"
      },
      "source": [
        "import numpy as np\n",
        "\n",
        "# Sample from a normal distribution using numpy's random number generator\n",
        "samples = np.random.normal(size=10000)\n",
        "\n",
        "# Compute a histogram of the sample\n",
        "bins = np.linspace(-5, 5, 30)\n",
        "histogram, bins = np.histogram(samples, bins=bins, density=True)\n",
        "\n",
        "bin_centers = 0.5*(bins[1:] + bins[:-1])\n",
        "\n",
        "# Compute the PDF on the bin centers from scipy distribution object\n",
        "from scipy import stats\n",
        "pdf = stats.norm.pdf(bin_centers)\n",
        "\n",
        "from matplotlib import pyplot as plt\n",
        "plt.figure(figsize=(6, 4))\n",
        "plt.plot(bin_centers, histogram, label=\"Histogram of samples\")\n",
        "plt.plot(bin_centers, pdf, label=\"PDF\")\n",
        "plt.legend()\n",
        "plt.show()"
      ],
      "execution_count": 4,
      "outputs": [
        {
          "output_type": "display_data",
          "data": {
            "image/png": "[encoded data removed]",
            "text/plain": [
              "<Figure size 432x288 with 1 Axes>"
            ]
          },
          "metadata": {
            "tags": [],
            "needs_background": "light"
          }
        }
      ]
    }
  ]
}