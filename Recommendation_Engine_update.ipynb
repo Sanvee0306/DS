{
  "nbformat": 4,
  "nbformat_minor": 0,
  "metadata": {
    "kernelspec": {
      "display_name": "Python 3",
      "language": "python",
      "name": "python3"
    },
    "language_info": {
      "codemirror_mode": {
        "name": "ipython",
        "version": 3
      },
      "file_extension": ".py",
      "mimetype": "text/x-python",
      "name": "python",
      "nbconvert_exporter": "python",
      "pygments_lexer": "ipython3",
      "version": "3.7.3"
    },
    "varInspector": {
      "cols": {
        "lenName": 16,
        "lenType": 16,
        "lenVar": 40
      },
      "kernels_config": {
        "python": {
          "delete_cmd_postfix": "",
          "delete_cmd_prefix": "del ",
          "library": "var_list.py",
          "varRefreshCmd": "print(var_dic_list())"
        },
        "r": {
          "delete_cmd_postfix": ") ",
          "delete_cmd_prefix": "rm(",
          "library": "var_list.r",
          "varRefreshCmd": "cat(var_dic_list()) "
        }
      },
      "types_to_exclude": [
        "module",
        "function",
        "builtin_function_or_method",
        "instance",
        "_Feature"
      ],
      "window_display": false
    },
    "colab": {
      "name": "Recommendation Engine_update.ipynb",
      "provenance": [],
      "include_colab_link": true
    }
  },
  "cells": [
    {
      "cell_type": "markdown",
      "metadata": {
        "id": "view-in-github",
        "colab_type": "text"
      },
      "source": [
        "<a href=\"https://colab.research.google.com/github/Sanvee0306/DS/blob/main/Recommendation_Engine_update.ipynb\" target=\"_parent\"><img src=\"https://colab.research.google.com/assets/colab-badge.svg\" alt=\"Open In Colab\"/></a>"
      ]
    },
    {
      "cell_type": "code",
      "metadata": {
        "ExecuteTime": {
          "end_time": "2020-10-27T12:15:23.550043Z",
          "start_time": "2020-10-27T12:15:14.841245Z"
        },
        "id": "1bWtzggoscqm"
      },
      "source": [
        "#UBCF\n",
        "import pandas as pd\n",
        "import numpy as np"
      ],
      "execution_count": 2,
      "outputs": []
    },
    {
      "cell_type": "code",
      "metadata": {
        "ExecuteTime": {
          "end_time": "2020-10-27T12:15:46.900373Z",
          "start_time": "2020-10-27T12:15:46.504060Z"
        },
        "id": "llW6DJokscqr"
      },
      "source": [
        "movies_df = pd.read_csv('Movie (1).csv')"
      ],
      "execution_count": 3,
      "outputs": []
    },
    {
      "cell_type": "code",
      "metadata": {
        "ExecuteTime": {
          "end_time": "2020-10-27T12:15:48.705404Z",
          "start_time": "2020-10-27T12:15:48.658533Z"
        },
        "colab": {
          "base_uri": "https://localhost:8080/",
          "height": 204
        },
        "id": "fgBnO_EJscqt",
        "outputId": "f8575f81-cd90-4012-a1e2-bec1e343ba3d"
      },
      "source": [
        "movies_df[0:5]"
      ],
      "execution_count": 4,
      "outputs": [
        {
          "output_type": "execute_result",
          "data": {
            "text/html": [
              "<div>\n",
              "<style scoped>\n",
              "    .dataframe tbody tr th:only-of-type {\n",
              "        vertical-align: middle;\n",
              "    }\n",
              "\n",
              "    .dataframe tbody tr th {\n",
              "        vertical-align: top;\n",
              "    }\n",
              "\n",
              "    .dataframe thead th {\n",
              "        text-align: right;\n",
              "    }\n",
              "</style>\n",
              "<table border=\"1\" class=\"dataframe\">\n",
              "  <thead>\n",
              "    <tr style=\"text-align: right;\">\n",
              "      <th></th>\n",
              "      <th>userId</th>\n",
              "      <th>movie</th>\n",
              "      <th>rating</th>\n",
              "    </tr>\n",
              "  </thead>\n",
              "  <tbody>\n",
              "    <tr>\n",
              "      <th>0</th>\n",
              "      <td>3</td>\n",
              "      <td>Toy Story (1995)</td>\n",
              "      <td>4.0</td>\n",
              "    </tr>\n",
              "    <tr>\n",
              "      <th>1</th>\n",
              "      <td>6</td>\n",
              "      <td>Toy Story (1995)</td>\n",
              "      <td>5.0</td>\n",
              "    </tr>\n",
              "    <tr>\n",
              "      <th>2</th>\n",
              "      <td>8</td>\n",
              "      <td>Toy Story (1995)</td>\n",
              "      <td>4.0</td>\n",
              "    </tr>\n",
              "    <tr>\n",
              "      <th>3</th>\n",
              "      <td>10</td>\n",
              "      <td>Toy Story (1995)</td>\n",
              "      <td>4.0</td>\n",
              "    </tr>\n",
              "    <tr>\n",
              "      <th>4</th>\n",
              "      <td>11</td>\n",
              "      <td>Toy Story (1995)</td>\n",
              "      <td>4.5</td>\n",
              "    </tr>\n",
              "  </tbody>\n",
              "</table>\n",
              "</div>"
            ],
            "text/plain": [
              "   userId             movie  rating\n",
              "0       3  Toy Story (1995)     4.0\n",
              "1       6  Toy Story (1995)     5.0\n",
              "2       8  Toy Story (1995)     4.0\n",
              "3      10  Toy Story (1995)     4.0\n",
              "4      11  Toy Story (1995)     4.5"
            ]
          },
          "metadata": {
            "tags": []
          },
          "execution_count": 4
        }
      ]
    },
    {
      "cell_type": "code",
      "metadata": {
        "ExecuteTime": {
          "end_time": "2020-10-27T12:15:50.841201Z",
          "start_time": "2020-10-27T12:15:50.831228Z"
        },
        "colab": {
          "base_uri": "https://localhost:8080/"
        },
        "id": "wykkqx9nscqv",
        "outputId": "2368b1d4-8b3b-481e-af54-4183c924269b"
      },
      "source": [
        "#number of unique users in the dataset\n",
        "len(movies_df.userId.unique())"
      ],
      "execution_count": 5,
      "outputs": [
        {
          "output_type": "execute_result",
          "data": {
            "text/plain": [
              "4081"
            ]
          },
          "metadata": {
            "tags": []
          },
          "execution_count": 5
        }
      ]
    },
    {
      "cell_type": "code",
      "metadata": {
        "ExecuteTime": {
          "end_time": "2020-10-27T12:16:22.330904Z",
          "start_time": "2020-10-27T12:16:22.320929Z"
        },
        "colab": {
          "base_uri": "https://localhost:8080/"
        },
        "id": "g9-oxaRhscqw",
        "outputId": "c6b73c43-671f-4b30-dfa9-0d0c5adf7dc2"
      },
      "source": [
        "len(movies_df.movie.unique())"
      ],
      "execution_count": 6,
      "outputs": [
        {
          "output_type": "execute_result",
          "data": {
            "text/plain": [
              "10"
            ]
          },
          "metadata": {
            "tags": []
          },
          "execution_count": 6
        }
      ]
    },
    {
      "cell_type": "code",
      "metadata": {
        "ExecuteTime": {
          "end_time": "2020-10-27T12:17:37.131086Z",
          "start_time": "2020-10-27T12:17:37.114191Z"
        },
        "id": "bGD_ZJOLscqx"
      },
      "source": [
        "user_movies_df = movies_df.pivot(index='userId',\n",
        "                                 columns='movie',\n",
        "                                 values='rating').reset_index(drop=True)"
      ],
      "execution_count": 8,
      "outputs": []
    },
    {
      "cell_type": "code",
      "metadata": {
        "ExecuteTime": {
          "end_time": "2020-10-27T12:17:39.756428Z",
          "start_time": "2020-10-27T12:17:39.724509Z"
        },
        "colab": {
          "base_uri": "https://localhost:8080/",
          "height": 453
        },
        "id": "tcvoLWKgscqx",
        "outputId": "6afe475e-fd74-4e82-c9aa-c0d0a9901fd5"
      },
      "source": [
        "user_movies_df"
      ],
      "execution_count": 10,
      "outputs": [
        {
          "output_type": "execute_result",
          "data": {
            "text/html": [
              "<div>\n",
              "<style scoped>\n",
              "    .dataframe tbody tr th:only-of-type {\n",
              "        vertical-align: middle;\n",
              "    }\n",
              "\n",
              "    .dataframe tbody tr th {\n",
              "        vertical-align: top;\n",
              "    }\n",
              "\n",
              "    .dataframe thead th {\n",
              "        text-align: right;\n",
              "    }\n",
              "</style>\n",
              "<table border=\"1\" class=\"dataframe\">\n",
              "  <thead>\n",
              "    <tr style=\"text-align: right;\">\n",
              "      <th>movie</th>\n",
              "      <th>Father of the Bride Part II (1995)</th>\n",
              "      <th>GoldenEye (1995)</th>\n",
              "      <th>Grumpier Old Men (1995)</th>\n",
              "      <th>Heat (1995)</th>\n",
              "      <th>Jumanji (1995)</th>\n",
              "      <th>Sabrina (1995)</th>\n",
              "      <th>Sudden Death (1995)</th>\n",
              "      <th>Tom and Huck (1995)</th>\n",
              "      <th>Toy Story (1995)</th>\n",
              "      <th>Waiting to Exhale (1995)</th>\n",
              "    </tr>\n",
              "  </thead>\n",
              "  <tbody>\n",
              "    <tr>\n",
              "      <th>0</th>\n",
              "      <td>NaN</td>\n",
              "      <td>NaN</td>\n",
              "      <td>NaN</td>\n",
              "      <td>NaN</td>\n",
              "      <td>3.5</td>\n",
              "      <td>NaN</td>\n",
              "      <td>NaN</td>\n",
              "      <td>NaN</td>\n",
              "      <td>NaN</td>\n",
              "      <td>NaN</td>\n",
              "    </tr>\n",
              "    <tr>\n",
              "      <th>1</th>\n",
              "      <td>NaN</td>\n",
              "      <td>NaN</td>\n",
              "      <td>4.0</td>\n",
              "      <td>NaN</td>\n",
              "      <td>NaN</td>\n",
              "      <td>NaN</td>\n",
              "      <td>NaN</td>\n",
              "      <td>NaN</td>\n",
              "      <td>NaN</td>\n",
              "      <td>NaN</td>\n",
              "    </tr>\n",
              "    <tr>\n",
              "      <th>2</th>\n",
              "      <td>NaN</td>\n",
              "      <td>NaN</td>\n",
              "      <td>NaN</td>\n",
              "      <td>NaN</td>\n",
              "      <td>NaN</td>\n",
              "      <td>NaN</td>\n",
              "      <td>NaN</td>\n",
              "      <td>NaN</td>\n",
              "      <td>4.0</td>\n",
              "      <td>NaN</td>\n",
              "    </tr>\n",
              "    <tr>\n",
              "      <th>3</th>\n",
              "      <td>NaN</td>\n",
              "      <td>4.0</td>\n",
              "      <td>NaN</td>\n",
              "      <td>3.0</td>\n",
              "      <td>NaN</td>\n",
              "      <td>NaN</td>\n",
              "      <td>NaN</td>\n",
              "      <td>NaN</td>\n",
              "      <td>NaN</td>\n",
              "      <td>NaN</td>\n",
              "    </tr>\n",
              "    <tr>\n",
              "      <th>4</th>\n",
              "      <td>NaN</td>\n",
              "      <td>NaN</td>\n",
              "      <td>NaN</td>\n",
              "      <td>NaN</td>\n",
              "      <td>3.0</td>\n",
              "      <td>NaN</td>\n",
              "      <td>NaN</td>\n",
              "      <td>NaN</td>\n",
              "      <td>NaN</td>\n",
              "      <td>NaN</td>\n",
              "    </tr>\n",
              "    <tr>\n",
              "      <th>...</th>\n",
              "      <td>...</td>\n",
              "      <td>...</td>\n",
              "      <td>...</td>\n",
              "      <td>...</td>\n",
              "      <td>...</td>\n",
              "      <td>...</td>\n",
              "      <td>...</td>\n",
              "      <td>...</td>\n",
              "      <td>...</td>\n",
              "      <td>...</td>\n",
              "    </tr>\n",
              "    <tr>\n",
              "      <th>4076</th>\n",
              "      <td>4.0</td>\n",
              "      <td>NaN</td>\n",
              "      <td>NaN</td>\n",
              "      <td>NaN</td>\n",
              "      <td>NaN</td>\n",
              "      <td>NaN</td>\n",
              "      <td>NaN</td>\n",
              "      <td>NaN</td>\n",
              "      <td>NaN</td>\n",
              "      <td>NaN</td>\n",
              "    </tr>\n",
              "    <tr>\n",
              "      <th>4077</th>\n",
              "      <td>3.5</td>\n",
              "      <td>NaN</td>\n",
              "      <td>NaN</td>\n",
              "      <td>NaN</td>\n",
              "      <td>NaN</td>\n",
              "      <td>NaN</td>\n",
              "      <td>NaN</td>\n",
              "      <td>NaN</td>\n",
              "      <td>4.0</td>\n",
              "      <td>NaN</td>\n",
              "    </tr>\n",
              "    <tr>\n",
              "      <th>4078</th>\n",
              "      <td>NaN</td>\n",
              "      <td>3.0</td>\n",
              "      <td>4.0</td>\n",
              "      <td>5.0</td>\n",
              "      <td>NaN</td>\n",
              "      <td>3.0</td>\n",
              "      <td>1.0</td>\n",
              "      <td>NaN</td>\n",
              "      <td>4.0</td>\n",
              "      <td>NaN</td>\n",
              "    </tr>\n",
              "    <tr>\n",
              "      <th>4079</th>\n",
              "      <td>NaN</td>\n",
              "      <td>NaN</td>\n",
              "      <td>NaN</td>\n",
              "      <td>NaN</td>\n",
              "      <td>NaN</td>\n",
              "      <td>NaN</td>\n",
              "      <td>NaN</td>\n",
              "      <td>NaN</td>\n",
              "      <td>5.0</td>\n",
              "      <td>NaN</td>\n",
              "    </tr>\n",
              "    <tr>\n",
              "      <th>4080</th>\n",
              "      <td>NaN</td>\n",
              "      <td>NaN</td>\n",
              "      <td>NaN</td>\n",
              "      <td>NaN</td>\n",
              "      <td>4.0</td>\n",
              "      <td>4.0</td>\n",
              "      <td>NaN</td>\n",
              "      <td>NaN</td>\n",
              "      <td>4.5</td>\n",
              "      <td>NaN</td>\n",
              "    </tr>\n",
              "  </tbody>\n",
              "</table>\n",
              "<p>4081 rows × 10 columns</p>\n",
              "</div>"
            ],
            "text/plain": [
              "movie  Father of the Bride Part II (1995)  ...  Waiting to Exhale (1995)\n",
              "0                                     NaN  ...                       NaN\n",
              "1                                     NaN  ...                       NaN\n",
              "2                                     NaN  ...                       NaN\n",
              "3                                     NaN  ...                       NaN\n",
              "4                                     NaN  ...                       NaN\n",
              "...                                   ...  ...                       ...\n",
              "4076                                  4.0  ...                       NaN\n",
              "4077                                  3.5  ...                       NaN\n",
              "4078                                  NaN  ...                       NaN\n",
              "4079                                  NaN  ...                       NaN\n",
              "4080                                  NaN  ...                       NaN\n",
              "\n",
              "[4081 rows x 10 columns]"
            ]
          },
          "metadata": {
            "tags": []
          },
          "execution_count": 10
        }
      ]
    },
    {
      "cell_type": "code",
      "metadata": {
        "ExecuteTime": {
          "end_time": "2020-10-27T12:18:57.395452Z",
          "start_time": "2020-10-27T12:18:57.388473Z"
        },
        "id": "i8v5ReO7scqz"
      },
      "source": [
        "user_movies_df.index = movies_df.userId.unique()"
      ],
      "execution_count": 11,
      "outputs": []
    },
    {
      "cell_type": "code",
      "metadata": {
        "ExecuteTime": {
          "end_time": "2020-10-27T12:18:59.375295Z",
          "start_time": "2020-10-27T12:18:59.339392Z"
        },
        "colab": {
          "base_uri": "https://localhost:8080/",
          "height": 453
        },
        "id": "VZ-86sqQscqz",
        "outputId": "d8fbd740-9ea1-49bf-c62b-83c58d872571"
      },
      "source": [
        "user_movies_df"
      ],
      "execution_count": 12,
      "outputs": [
        {
          "output_type": "execute_result",
          "data": {
            "text/html": [
              "<div>\n",
              "<style scoped>\n",
              "    .dataframe tbody tr th:only-of-type {\n",
              "        vertical-align: middle;\n",
              "    }\n",
              "\n",
              "    .dataframe tbody tr th {\n",
              "        vertical-align: top;\n",
              "    }\n",
              "\n",
              "    .dataframe thead th {\n",
              "        text-align: right;\n",
              "    }\n",
              "</style>\n",
              "<table border=\"1\" class=\"dataframe\">\n",
              "  <thead>\n",
              "    <tr style=\"text-align: right;\">\n",
              "      <th>movie</th>\n",
              "      <th>Father of the Bride Part II (1995)</th>\n",
              "      <th>GoldenEye (1995)</th>\n",
              "      <th>Grumpier Old Men (1995)</th>\n",
              "      <th>Heat (1995)</th>\n",
              "      <th>Jumanji (1995)</th>\n",
              "      <th>Sabrina (1995)</th>\n",
              "      <th>Sudden Death (1995)</th>\n",
              "      <th>Tom and Huck (1995)</th>\n",
              "      <th>Toy Story (1995)</th>\n",
              "      <th>Waiting to Exhale (1995)</th>\n",
              "    </tr>\n",
              "  </thead>\n",
              "  <tbody>\n",
              "    <tr>\n",
              "      <th>3</th>\n",
              "      <td>NaN</td>\n",
              "      <td>NaN</td>\n",
              "      <td>NaN</td>\n",
              "      <td>NaN</td>\n",
              "      <td>3.5</td>\n",
              "      <td>NaN</td>\n",
              "      <td>NaN</td>\n",
              "      <td>NaN</td>\n",
              "      <td>NaN</td>\n",
              "      <td>NaN</td>\n",
              "    </tr>\n",
              "    <tr>\n",
              "      <th>6</th>\n",
              "      <td>NaN</td>\n",
              "      <td>NaN</td>\n",
              "      <td>4.0</td>\n",
              "      <td>NaN</td>\n",
              "      <td>NaN</td>\n",
              "      <td>NaN</td>\n",
              "      <td>NaN</td>\n",
              "      <td>NaN</td>\n",
              "      <td>NaN</td>\n",
              "      <td>NaN</td>\n",
              "    </tr>\n",
              "    <tr>\n",
              "      <th>8</th>\n",
              "      <td>NaN</td>\n",
              "      <td>NaN</td>\n",
              "      <td>NaN</td>\n",
              "      <td>NaN</td>\n",
              "      <td>NaN</td>\n",
              "      <td>NaN</td>\n",
              "      <td>NaN</td>\n",
              "      <td>NaN</td>\n",
              "      <td>4.0</td>\n",
              "      <td>NaN</td>\n",
              "    </tr>\n",
              "    <tr>\n",
              "      <th>10</th>\n",
              "      <td>NaN</td>\n",
              "      <td>4.0</td>\n",
              "      <td>NaN</td>\n",
              "      <td>3.0</td>\n",
              "      <td>NaN</td>\n",
              "      <td>NaN</td>\n",
              "      <td>NaN</td>\n",
              "      <td>NaN</td>\n",
              "      <td>NaN</td>\n",
              "      <td>NaN</td>\n",
              "    </tr>\n",
              "    <tr>\n",
              "      <th>11</th>\n",
              "      <td>NaN</td>\n",
              "      <td>NaN</td>\n",
              "      <td>NaN</td>\n",
              "      <td>NaN</td>\n",
              "      <td>3.0</td>\n",
              "      <td>NaN</td>\n",
              "      <td>NaN</td>\n",
              "      <td>NaN</td>\n",
              "      <td>NaN</td>\n",
              "      <td>NaN</td>\n",
              "    </tr>\n",
              "    <tr>\n",
              "      <th>...</th>\n",
              "      <td>...</td>\n",
              "      <td>...</td>\n",
              "      <td>...</td>\n",
              "      <td>...</td>\n",
              "      <td>...</td>\n",
              "      <td>...</td>\n",
              "      <td>...</td>\n",
              "      <td>...</td>\n",
              "      <td>...</td>\n",
              "      <td>...</td>\n",
              "    </tr>\n",
              "    <tr>\n",
              "      <th>7044</th>\n",
              "      <td>4.0</td>\n",
              "      <td>NaN</td>\n",
              "      <td>NaN</td>\n",
              "      <td>NaN</td>\n",
              "      <td>NaN</td>\n",
              "      <td>NaN</td>\n",
              "      <td>NaN</td>\n",
              "      <td>NaN</td>\n",
              "      <td>NaN</td>\n",
              "      <td>NaN</td>\n",
              "    </tr>\n",
              "    <tr>\n",
              "      <th>7070</th>\n",
              "      <td>3.5</td>\n",
              "      <td>NaN</td>\n",
              "      <td>NaN</td>\n",
              "      <td>NaN</td>\n",
              "      <td>NaN</td>\n",
              "      <td>NaN</td>\n",
              "      <td>NaN</td>\n",
              "      <td>NaN</td>\n",
              "      <td>4.0</td>\n",
              "      <td>NaN</td>\n",
              "    </tr>\n",
              "    <tr>\n",
              "      <th>7080</th>\n",
              "      <td>NaN</td>\n",
              "      <td>3.0</td>\n",
              "      <td>4.0</td>\n",
              "      <td>5.0</td>\n",
              "      <td>NaN</td>\n",
              "      <td>3.0</td>\n",
              "      <td>1.0</td>\n",
              "      <td>NaN</td>\n",
              "      <td>4.0</td>\n",
              "      <td>NaN</td>\n",
              "    </tr>\n",
              "    <tr>\n",
              "      <th>7087</th>\n",
              "      <td>NaN</td>\n",
              "      <td>NaN</td>\n",
              "      <td>NaN</td>\n",
              "      <td>NaN</td>\n",
              "      <td>NaN</td>\n",
              "      <td>NaN</td>\n",
              "      <td>NaN</td>\n",
              "      <td>NaN</td>\n",
              "      <td>5.0</td>\n",
              "      <td>NaN</td>\n",
              "    </tr>\n",
              "    <tr>\n",
              "      <th>7105</th>\n",
              "      <td>NaN</td>\n",
              "      <td>NaN</td>\n",
              "      <td>NaN</td>\n",
              "      <td>NaN</td>\n",
              "      <td>4.0</td>\n",
              "      <td>4.0</td>\n",
              "      <td>NaN</td>\n",
              "      <td>NaN</td>\n",
              "      <td>4.5</td>\n",
              "      <td>NaN</td>\n",
              "    </tr>\n",
              "  </tbody>\n",
              "</table>\n",
              "<p>4081 rows × 10 columns</p>\n",
              "</div>"
            ],
            "text/plain": [
              "movie  Father of the Bride Part II (1995)  ...  Waiting to Exhale (1995)\n",
              "3                                     NaN  ...                       NaN\n",
              "6                                     NaN  ...                       NaN\n",
              "8                                     NaN  ...                       NaN\n",
              "10                                    NaN  ...                       NaN\n",
              "11                                    NaN  ...                       NaN\n",
              "...                                   ...  ...                       ...\n",
              "7044                                  4.0  ...                       NaN\n",
              "7070                                  3.5  ...                       NaN\n",
              "7080                                  NaN  ...                       NaN\n",
              "7087                                  NaN  ...                       NaN\n",
              "7105                                  NaN  ...                       NaN\n",
              "\n",
              "[4081 rows x 10 columns]"
            ]
          },
          "metadata": {
            "tags": []
          },
          "execution_count": 12
        }
      ]
    },
    {
      "cell_type": "code",
      "metadata": {
        "ExecuteTime": {
          "end_time": "2020-10-27T12:19:29.289925Z",
          "start_time": "2020-10-27T12:19:29.101207Z"
        },
        "id": "pHRJZ58pscq0"
      },
      "source": [
        "#Impute those NaNs with 0 values\n",
        "user_movies_df.fillna(0, inplace=True)"
      ],
      "execution_count": 13,
      "outputs": []
    },
    {
      "cell_type": "code",
      "metadata": {
        "ExecuteTime": {
          "end_time": "2020-10-27T12:19:31.448772Z",
          "start_time": "2020-10-27T12:19:31.410871Z"
        },
        "colab": {
          "base_uri": "https://localhost:8080/",
          "height": 453
        },
        "id": "Cx3GJfBdscq2",
        "outputId": "ba00b5a5-fe5b-42b2-bdb1-92b3cd9d66a0"
      },
      "source": [
        "user_movies_df"
      ],
      "execution_count": 14,
      "outputs": [
        {
          "output_type": "execute_result",
          "data": {
            "text/html": [
              "<div>\n",
              "<style scoped>\n",
              "    .dataframe tbody tr th:only-of-type {\n",
              "        vertical-align: middle;\n",
              "    }\n",
              "\n",
              "    .dataframe tbody tr th {\n",
              "        vertical-align: top;\n",
              "    }\n",
              "\n",
              "    .dataframe thead th {\n",
              "        text-align: right;\n",
              "    }\n",
              "</style>\n",
              "<table border=\"1\" class=\"dataframe\">\n",
              "  <thead>\n",
              "    <tr style=\"text-align: right;\">\n",
              "      <th>movie</th>\n",
              "      <th>Father of the Bride Part II (1995)</th>\n",
              "      <th>GoldenEye (1995)</th>\n",
              "      <th>Grumpier Old Men (1995)</th>\n",
              "      <th>Heat (1995)</th>\n",
              "      <th>Jumanji (1995)</th>\n",
              "      <th>Sabrina (1995)</th>\n",
              "      <th>Sudden Death (1995)</th>\n",
              "      <th>Tom and Huck (1995)</th>\n",
              "      <th>Toy Story (1995)</th>\n",
              "      <th>Waiting to Exhale (1995)</th>\n",
              "    </tr>\n",
              "  </thead>\n",
              "  <tbody>\n",
              "    <tr>\n",
              "      <th>3</th>\n",
              "      <td>0.0</td>\n",
              "      <td>0.0</td>\n",
              "      <td>0.0</td>\n",
              "      <td>0.0</td>\n",
              "      <td>3.5</td>\n",
              "      <td>0.0</td>\n",
              "      <td>0.0</td>\n",
              "      <td>0.0</td>\n",
              "      <td>0.0</td>\n",
              "      <td>0.0</td>\n",
              "    </tr>\n",
              "    <tr>\n",
              "      <th>6</th>\n",
              "      <td>0.0</td>\n",
              "      <td>0.0</td>\n",
              "      <td>4.0</td>\n",
              "      <td>0.0</td>\n",
              "      <td>0.0</td>\n",
              "      <td>0.0</td>\n",
              "      <td>0.0</td>\n",
              "      <td>0.0</td>\n",
              "      <td>0.0</td>\n",
              "      <td>0.0</td>\n",
              "    </tr>\n",
              "    <tr>\n",
              "      <th>8</th>\n",
              "      <td>0.0</td>\n",
              "      <td>0.0</td>\n",
              "      <td>0.0</td>\n",
              "      <td>0.0</td>\n",
              "      <td>0.0</td>\n",
              "      <td>0.0</td>\n",
              "      <td>0.0</td>\n",
              "      <td>0.0</td>\n",
              "      <td>4.0</td>\n",
              "      <td>0.0</td>\n",
              "    </tr>\n",
              "    <tr>\n",
              "      <th>10</th>\n",
              "      <td>0.0</td>\n",
              "      <td>4.0</td>\n",
              "      <td>0.0</td>\n",
              "      <td>3.0</td>\n",
              "      <td>0.0</td>\n",
              "      <td>0.0</td>\n",
              "      <td>0.0</td>\n",
              "      <td>0.0</td>\n",
              "      <td>0.0</td>\n",
              "      <td>0.0</td>\n",
              "    </tr>\n",
              "    <tr>\n",
              "      <th>11</th>\n",
              "      <td>0.0</td>\n",
              "      <td>0.0</td>\n",
              "      <td>0.0</td>\n",
              "      <td>0.0</td>\n",
              "      <td>3.0</td>\n",
              "      <td>0.0</td>\n",
              "      <td>0.0</td>\n",
              "      <td>0.0</td>\n",
              "      <td>0.0</td>\n",
              "      <td>0.0</td>\n",
              "    </tr>\n",
              "    <tr>\n",
              "      <th>...</th>\n",
              "      <td>...</td>\n",
              "      <td>...</td>\n",
              "      <td>...</td>\n",
              "      <td>...</td>\n",
              "      <td>...</td>\n",
              "      <td>...</td>\n",
              "      <td>...</td>\n",
              "      <td>...</td>\n",
              "      <td>...</td>\n",
              "      <td>...</td>\n",
              "    </tr>\n",
              "    <tr>\n",
              "      <th>7044</th>\n",
              "      <td>4.0</td>\n",
              "      <td>0.0</td>\n",
              "      <td>0.0</td>\n",
              "      <td>0.0</td>\n",
              "      <td>0.0</td>\n",
              "      <td>0.0</td>\n",
              "      <td>0.0</td>\n",
              "      <td>0.0</td>\n",
              "      <td>0.0</td>\n",
              "      <td>0.0</td>\n",
              "    </tr>\n",
              "    <tr>\n",
              "      <th>7070</th>\n",
              "      <td>3.5</td>\n",
              "      <td>0.0</td>\n",
              "      <td>0.0</td>\n",
              "      <td>0.0</td>\n",
              "      <td>0.0</td>\n",
              "      <td>0.0</td>\n",
              "      <td>0.0</td>\n",
              "      <td>0.0</td>\n",
              "      <td>4.0</td>\n",
              "      <td>0.0</td>\n",
              "    </tr>\n",
              "    <tr>\n",
              "      <th>7080</th>\n",
              "      <td>0.0</td>\n",
              "      <td>3.0</td>\n",
              "      <td>4.0</td>\n",
              "      <td>5.0</td>\n",
              "      <td>0.0</td>\n",
              "      <td>3.0</td>\n",
              "      <td>1.0</td>\n",
              "      <td>0.0</td>\n",
              "      <td>4.0</td>\n",
              "      <td>0.0</td>\n",
              "    </tr>\n",
              "    <tr>\n",
              "      <th>7087</th>\n",
              "      <td>0.0</td>\n",
              "      <td>0.0</td>\n",
              "      <td>0.0</td>\n",
              "      <td>0.0</td>\n",
              "      <td>0.0</td>\n",
              "      <td>0.0</td>\n",
              "      <td>0.0</td>\n",
              "      <td>0.0</td>\n",
              "      <td>5.0</td>\n",
              "      <td>0.0</td>\n",
              "    </tr>\n",
              "    <tr>\n",
              "      <th>7105</th>\n",
              "      <td>0.0</td>\n",
              "      <td>0.0</td>\n",
              "      <td>0.0</td>\n",
              "      <td>0.0</td>\n",
              "      <td>4.0</td>\n",
              "      <td>4.0</td>\n",
              "      <td>0.0</td>\n",
              "      <td>0.0</td>\n",
              "      <td>4.5</td>\n",
              "      <td>0.0</td>\n",
              "    </tr>\n",
              "  </tbody>\n",
              "</table>\n",
              "<p>4081 rows × 10 columns</p>\n",
              "</div>"
            ],
            "text/plain": [
              "movie  Father of the Bride Part II (1995)  ...  Waiting to Exhale (1995)\n",
              "3                                     0.0  ...                       0.0\n",
              "6                                     0.0  ...                       0.0\n",
              "8                                     0.0  ...                       0.0\n",
              "10                                    0.0  ...                       0.0\n",
              "11                                    0.0  ...                       0.0\n",
              "...                                   ...  ...                       ...\n",
              "7044                                  4.0  ...                       0.0\n",
              "7070                                  3.5  ...                       0.0\n",
              "7080                                  0.0  ...                       0.0\n",
              "7087                                  0.0  ...                       0.0\n",
              "7105                                  0.0  ...                       0.0\n",
              "\n",
              "[4081 rows x 10 columns]"
            ]
          },
          "metadata": {
            "tags": []
          },
          "execution_count": 14
        }
      ]
    },
    {
      "cell_type": "code",
      "metadata": {
        "ExecuteTime": {
          "end_time": "2020-10-27T12:19:58.929125Z",
          "start_time": "2020-10-27T12:19:39.126310Z"
        },
        "id": "ENcpiYO2scq3"
      },
      "source": [
        "#Calculating Cosine Similarity between Users\n",
        "from sklearn.metrics import pairwise_distances\n",
        "from scipy.spatial.distance import cosine, correlation"
      ],
      "execution_count": 15,
      "outputs": []
    },
    {
      "cell_type": "code",
      "metadata": {
        "ExecuteTime": {
          "end_time": "2020-10-27T12:20:01.938661Z",
          "start_time": "2020-10-27T12:20:01.424507Z"
        },
        "id": "VZjE3lzescq4"
      },
      "source": [
        "user_sim = 1 - pairwise_distances( user_movies_df.values,metric='cosine')"
      ],
      "execution_count": 16,
      "outputs": []
    },
    {
      "cell_type": "code",
      "metadata": {
        "ExecuteTime": {
          "end_time": "2020-10-27T12:20:03.957643Z",
          "start_time": "2020-10-27T12:20:03.949667Z"
        },
        "colab": {
          "base_uri": "https://localhost:8080/"
        },
        "id": "TO42J-F7scq5",
        "outputId": "9009e12a-fe7f-4b9d-dc87-75d79c5ccf18"
      },
      "source": [
        "user_sim"
      ],
      "execution_count": 17,
      "outputs": [
        {
          "output_type": "execute_result",
          "data": {
            "text/plain": [
              "array([[1.        , 0.        , 0.        , ..., 0.        , 0.        ,\n",
              "        0.55337157],\n",
              "       [0.        , 1.        , 0.        , ..., 0.45883147, 0.        ,\n",
              "        0.        ],\n",
              "       [0.        , 0.        , 1.        , ..., 0.45883147, 1.        ,\n",
              "        0.62254302],\n",
              "       ...,\n",
              "       [0.        , 0.45883147, 0.45883147, ..., 1.        , 0.45883147,\n",
              "        0.47607054],\n",
              "       [0.        , 0.        , 1.        , ..., 0.45883147, 1.        ,\n",
              "        0.62254302],\n",
              "       [0.55337157, 0.        , 0.62254302, ..., 0.47607054, 0.62254302,\n",
              "        1.        ]])"
            ]
          },
          "metadata": {
            "tags": []
          },
          "execution_count": 17
        }
      ]
    },
    {
      "cell_type": "code",
      "metadata": {
        "ExecuteTime": {
          "end_time": "2020-10-27T12:20:15.615998Z",
          "start_time": "2020-10-27T12:20:15.610014Z"
        },
        "id": "KjrujDWMscq5"
      },
      "source": [
        "#Store the results in a dataframe\n",
        "user_sim_df = pd.DataFrame(user_sim)"
      ],
      "execution_count": 18,
      "outputs": []
    },
    {
      "cell_type": "code",
      "metadata": {
        "ExecuteTime": {
          "end_time": "2020-10-27T12:21:38.395172Z",
          "start_time": "2020-10-27T12:21:38.383203Z"
        },
        "id": "37xciqCKscq9"
      },
      "source": [
        "#Set the index and column names to user ids \n",
        "user_sim_df.index = movies_df.userId.unique()\n",
        "user_sim_df.columns = movies_df.userId.unique()"
      ],
      "execution_count": 20,
      "outputs": []
    },
    {
      "cell_type": "code",
      "metadata": {
        "ExecuteTime": {
          "end_time": "2020-10-27T12:21:40.357435Z",
          "start_time": "2020-10-27T12:21:40.340481Z"
        },
        "colab": {
          "base_uri": "https://localhost:8080/",
          "height": 204
        },
        "id": "lffTenq3scq-",
        "outputId": "0d448e9a-8a7e-4cb0-956d-e65c16604f88"
      },
      "source": [
        "user_sim_df.iloc[0:5, 0:5]"
      ],
      "execution_count": 21,
      "outputs": [
        {
          "output_type": "execute_result",
          "data": {
            "text/html": [
              "<div>\n",
              "<style scoped>\n",
              "    .dataframe tbody tr th:only-of-type {\n",
              "        vertical-align: middle;\n",
              "    }\n",
              "\n",
              "    .dataframe tbody tr th {\n",
              "        vertical-align: top;\n",
              "    }\n",
              "\n",
              "    .dataframe thead th {\n",
              "        text-align: right;\n",
              "    }\n",
              "</style>\n",
              "<table border=\"1\" class=\"dataframe\">\n",
              "  <thead>\n",
              "    <tr style=\"text-align: right;\">\n",
              "      <th></th>\n",
              "      <th>3</th>\n",
              "      <th>6</th>\n",
              "      <th>8</th>\n",
              "      <th>10</th>\n",
              "      <th>11</th>\n",
              "    </tr>\n",
              "  </thead>\n",
              "  <tbody>\n",
              "    <tr>\n",
              "      <th>3</th>\n",
              "      <td>1.0</td>\n",
              "      <td>0.0</td>\n",
              "      <td>0.0</td>\n",
              "      <td>0.0</td>\n",
              "      <td>1.0</td>\n",
              "    </tr>\n",
              "    <tr>\n",
              "      <th>6</th>\n",
              "      <td>0.0</td>\n",
              "      <td>1.0</td>\n",
              "      <td>0.0</td>\n",
              "      <td>0.0</td>\n",
              "      <td>0.0</td>\n",
              "    </tr>\n",
              "    <tr>\n",
              "      <th>8</th>\n",
              "      <td>0.0</td>\n",
              "      <td>0.0</td>\n",
              "      <td>1.0</td>\n",
              "      <td>0.0</td>\n",
              "      <td>0.0</td>\n",
              "    </tr>\n",
              "    <tr>\n",
              "      <th>10</th>\n",
              "      <td>0.0</td>\n",
              "      <td>0.0</td>\n",
              "      <td>0.0</td>\n",
              "      <td>1.0</td>\n",
              "      <td>0.0</td>\n",
              "    </tr>\n",
              "    <tr>\n",
              "      <th>11</th>\n",
              "      <td>1.0</td>\n",
              "      <td>0.0</td>\n",
              "      <td>0.0</td>\n",
              "      <td>0.0</td>\n",
              "      <td>1.0</td>\n",
              "    </tr>\n",
              "  </tbody>\n",
              "</table>\n",
              "</div>"
            ],
            "text/plain": [
              "     3    6    8    10   11\n",
              "3   1.0  0.0  0.0  0.0  1.0\n",
              "6   0.0  1.0  0.0  0.0  0.0\n",
              "8   0.0  0.0  1.0  0.0  0.0\n",
              "10  0.0  0.0  0.0  1.0  0.0\n",
              "11  1.0  0.0  0.0  0.0  1.0"
            ]
          },
          "metadata": {
            "tags": []
          },
          "execution_count": 21
        }
      ]
    },
    {
      "cell_type": "code",
      "metadata": {
        "ExecuteTime": {
          "end_time": "2020-10-27T12:21:49.207320Z",
          "start_time": "2020-10-27T12:21:49.184385Z"
        },
        "colab": {
          "base_uri": "https://localhost:8080/",
          "height": 204
        },
        "id": "7j7aVl0Oscq-",
        "outputId": "4310ea50-614e-407a-cdfb-b3489a7664e6"
      },
      "source": [
        "np.fill_diagonal(user_sim, 0)\n",
        "user_sim_df.iloc[0:5, 0:5]"
      ],
      "execution_count": 22,
      "outputs": [
        {
          "output_type": "execute_result",
          "data": {
            "text/html": [
              "<div>\n",
              "<style scoped>\n",
              "    .dataframe tbody tr th:only-of-type {\n",
              "        vertical-align: middle;\n",
              "    }\n",
              "\n",
              "    .dataframe tbody tr th {\n",
              "        vertical-align: top;\n",
              "    }\n",
              "\n",
              "    .dataframe thead th {\n",
              "        text-align: right;\n",
              "    }\n",
              "</style>\n",
              "<table border=\"1\" class=\"dataframe\">\n",
              "  <thead>\n",
              "    <tr style=\"text-align: right;\">\n",
              "      <th></th>\n",
              "      <th>3</th>\n",
              "      <th>6</th>\n",
              "      <th>8</th>\n",
              "      <th>10</th>\n",
              "      <th>11</th>\n",
              "    </tr>\n",
              "  </thead>\n",
              "  <tbody>\n",
              "    <tr>\n",
              "      <th>3</th>\n",
              "      <td>0.0</td>\n",
              "      <td>0.0</td>\n",
              "      <td>0.0</td>\n",
              "      <td>0.0</td>\n",
              "      <td>1.0</td>\n",
              "    </tr>\n",
              "    <tr>\n",
              "      <th>6</th>\n",
              "      <td>0.0</td>\n",
              "      <td>0.0</td>\n",
              "      <td>0.0</td>\n",
              "      <td>0.0</td>\n",
              "      <td>0.0</td>\n",
              "    </tr>\n",
              "    <tr>\n",
              "      <th>8</th>\n",
              "      <td>0.0</td>\n",
              "      <td>0.0</td>\n",
              "      <td>0.0</td>\n",
              "      <td>0.0</td>\n",
              "      <td>0.0</td>\n",
              "    </tr>\n",
              "    <tr>\n",
              "      <th>10</th>\n",
              "      <td>0.0</td>\n",
              "      <td>0.0</td>\n",
              "      <td>0.0</td>\n",
              "      <td>0.0</td>\n",
              "      <td>0.0</td>\n",
              "    </tr>\n",
              "    <tr>\n",
              "      <th>11</th>\n",
              "      <td>1.0</td>\n",
              "      <td>0.0</td>\n",
              "      <td>0.0</td>\n",
              "      <td>0.0</td>\n",
              "      <td>0.0</td>\n",
              "    </tr>\n",
              "  </tbody>\n",
              "</table>\n",
              "</div>"
            ],
            "text/plain": [
              "     3    6    8    10   11\n",
              "3   0.0  0.0  0.0  0.0  1.0\n",
              "6   0.0  0.0  0.0  0.0  0.0\n",
              "8   0.0  0.0  0.0  0.0  0.0\n",
              "10  0.0  0.0  0.0  0.0  0.0\n",
              "11  1.0  0.0  0.0  0.0  0.0"
            ]
          },
          "metadata": {
            "tags": []
          },
          "execution_count": 22
        }
      ]
    },
    {
      "cell_type": "code",
      "metadata": {
        "ExecuteTime": {
          "end_time": "2020-10-27T12:22:27.743072Z",
          "start_time": "2020-10-27T12:22:27.539618Z"
        },
        "colab": {
          "base_uri": "https://localhost:8080/"
        },
        "id": "plaZV_8Mscq_",
        "outputId": "d76a3c4f-3f8b-4e66-b45f-3e4740011cc9"
      },
      "source": [
        "#Most Similar Users\n",
        "user_sim_df.idxmax(axis=1)[0:5]"
      ],
      "execution_count": 23,
      "outputs": [
        {
          "output_type": "execute_result",
          "data": {
            "text/plain": [
              "3       11\n",
              "6      168\n",
              "8       16\n",
              "10    4047\n",
              "11       3\n",
              "dtype: int64"
            ]
          },
          "metadata": {
            "tags": []
          },
          "execution_count": 23
        }
      ]
    },
    {
      "cell_type": "code",
      "metadata": {
        "ExecuteTime": {
          "end_time": "2020-10-27T12:22:31.136024Z",
          "start_time": "2020-10-27T12:22:31.099128Z"
        },
        "colab": {
          "base_uri": "https://localhost:8080/",
          "height": 173
        },
        "id": "VniHzwi-scrA",
        "outputId": "58c63e6b-1cf9-4cee-a684-ba521f0e0130"
      },
      "source": [
        "movies_df[(movies_df['userId']==6) | (movies_df['userId']==168)]"
      ],
      "execution_count": 26,
      "outputs": [
        {
          "output_type": "execute_result",
          "data": {
            "text/html": [
              "<div>\n",
              "<style scoped>\n",
              "    .dataframe tbody tr th:only-of-type {\n",
              "        vertical-align: middle;\n",
              "    }\n",
              "\n",
              "    .dataframe tbody tr th {\n",
              "        vertical-align: top;\n",
              "    }\n",
              "\n",
              "    .dataframe thead th {\n",
              "        text-align: right;\n",
              "    }\n",
              "</style>\n",
              "<table border=\"1\" class=\"dataframe\">\n",
              "  <thead>\n",
              "    <tr style=\"text-align: right;\">\n",
              "      <th></th>\n",
              "      <th>userId</th>\n",
              "      <th>movie</th>\n",
              "      <th>rating</th>\n",
              "    </tr>\n",
              "  </thead>\n",
              "  <tbody>\n",
              "    <tr>\n",
              "      <th>1</th>\n",
              "      <td>6</td>\n",
              "      <td>Toy Story (1995)</td>\n",
              "      <td>5.0</td>\n",
              "    </tr>\n",
              "    <tr>\n",
              "      <th>60</th>\n",
              "      <td>168</td>\n",
              "      <td>Toy Story (1995)</td>\n",
              "      <td>4.5</td>\n",
              "    </tr>\n",
              "    <tr>\n",
              "      <th>3725</th>\n",
              "      <td>6</td>\n",
              "      <td>Grumpier Old Men (1995)</td>\n",
              "      <td>3.0</td>\n",
              "    </tr>\n",
              "    <tr>\n",
              "      <th>6464</th>\n",
              "      <td>6</td>\n",
              "      <td>Sabrina (1995)</td>\n",
              "      <td>5.0</td>\n",
              "    </tr>\n",
              "  </tbody>\n",
              "</table>\n",
              "</div>"
            ],
            "text/plain": [
              "      userId                    movie  rating\n",
              "1          6         Toy Story (1995)     5.0\n",
              "60       168         Toy Story (1995)     4.5\n",
              "3725       6  Grumpier Old Men (1995)     3.0\n",
              "6464       6           Sabrina (1995)     5.0"
            ]
          },
          "metadata": {
            "tags": []
          },
          "execution_count": 26
        }
      ]
    },
    {
      "cell_type": "code",
      "metadata": {
        "ExecuteTime": {
          "end_time": "2020-10-27T12:23:42.542739Z",
          "start_time": "2020-10-27T12:23:42.535758Z"
        },
        "id": "3OhutU-uscrA"
      },
      "source": [
        "user_1=movies_df[movies_df['userId']==6] "
      ],
      "execution_count": 27,
      "outputs": []
    },
    {
      "cell_type": "code",
      "metadata": {
        "ExecuteTime": {
          "end_time": "2020-10-27T12:23:44.833951Z",
          "start_time": "2020-10-27T12:23:44.826969Z"
        },
        "id": "W5dR05XascrA"
      },
      "source": [
        "user_2=movies_df[movies_df['userId']==11]"
      ],
      "execution_count": 28,
      "outputs": []
    },
    {
      "cell_type": "code",
      "metadata": {
        "ExecuteTime": {
          "end_time": "2020-10-27T12:24:13.121810Z",
          "start_time": "2020-10-27T12:24:13.112832Z"
        },
        "colab": {
          "base_uri": "https://localhost:8080/"
        },
        "id": "ro5FqqSHscrB",
        "outputId": "6f190960-61a6-468e-f90b-f589037c95e7"
      },
      "source": [
        "user_2.movie"
      ],
      "execution_count": 29,
      "outputs": [
        {
          "output_type": "execute_result",
          "data": {
            "text/plain": [
              "4       Toy Story (1995)\n",
              "7446    GoldenEye (1995)\n",
              "Name: movie, dtype: object"
            ]
          },
          "metadata": {
            "tags": []
          },
          "execution_count": 29
        }
      ]
    },
    {
      "cell_type": "code",
      "metadata": {
        "ExecuteTime": {
          "end_time": "2020-10-27T12:24:15.318716Z",
          "start_time": "2020-10-27T12:24:15.309739Z"
        },
        "colab": {
          "base_uri": "https://localhost:8080/"
        },
        "id": "V_FynaN8scrB",
        "outputId": "76c67d85-d124-4c78-ae60-643bb0da4cc6"
      },
      "source": [
        "user_1.movie"
      ],
      "execution_count": 30,
      "outputs": [
        {
          "output_type": "execute_result",
          "data": {
            "text/plain": [
              "1              Toy Story (1995)\n",
              "3725    Grumpier Old Men (1995)\n",
              "6464             Sabrina (1995)\n",
              "Name: movie, dtype: object"
            ]
          },
          "metadata": {
            "tags": []
          },
          "execution_count": 30
        }
      ]
    },
    {
      "cell_type": "code",
      "metadata": {
        "ExecuteTime": {
          "end_time": "2020-10-27T12:24:17.554822Z",
          "start_time": "2020-10-27T12:24:17.448309Z"
        },
        "colab": {
          "base_uri": "https://localhost:8080/",
          "height": 173
        },
        "id": "D7qwzQyoscrC",
        "outputId": "b1c078ca-909f-4cb9-d150-8a66d7c60035"
      },
      "source": [
        "pd.merge(user_1,user_2,on='movie',how='outer')"
      ],
      "execution_count": 31,
      "outputs": [
        {
          "output_type": "execute_result",
          "data": {
            "text/html": [
              "<div>\n",
              "<style scoped>\n",
              "    .dataframe tbody tr th:only-of-type {\n",
              "        vertical-align: middle;\n",
              "    }\n",
              "\n",
              "    .dataframe tbody tr th {\n",
              "        vertical-align: top;\n",
              "    }\n",
              "\n",
              "    .dataframe thead th {\n",
              "        text-align: right;\n",
              "    }\n",
              "</style>\n",
              "<table border=\"1\" class=\"dataframe\">\n",
              "  <thead>\n",
              "    <tr style=\"text-align: right;\">\n",
              "      <th></th>\n",
              "      <th>userId_x</th>\n",
              "      <th>movie</th>\n",
              "      <th>rating_x</th>\n",
              "      <th>userId_y</th>\n",
              "      <th>rating_y</th>\n",
              "    </tr>\n",
              "  </thead>\n",
              "  <tbody>\n",
              "    <tr>\n",
              "      <th>0</th>\n",
              "      <td>6.0</td>\n",
              "      <td>Toy Story (1995)</td>\n",
              "      <td>5.0</td>\n",
              "      <td>11.0</td>\n",
              "      <td>4.5</td>\n",
              "    </tr>\n",
              "    <tr>\n",
              "      <th>1</th>\n",
              "      <td>6.0</td>\n",
              "      <td>Grumpier Old Men (1995)</td>\n",
              "      <td>3.0</td>\n",
              "      <td>NaN</td>\n",
              "      <td>NaN</td>\n",
              "    </tr>\n",
              "    <tr>\n",
              "      <th>2</th>\n",
              "      <td>6.0</td>\n",
              "      <td>Sabrina (1995)</td>\n",
              "      <td>5.0</td>\n",
              "      <td>NaN</td>\n",
              "      <td>NaN</td>\n",
              "    </tr>\n",
              "    <tr>\n",
              "      <th>3</th>\n",
              "      <td>NaN</td>\n",
              "      <td>GoldenEye (1995)</td>\n",
              "      <td>NaN</td>\n",
              "      <td>11.0</td>\n",
              "      <td>2.5</td>\n",
              "    </tr>\n",
              "  </tbody>\n",
              "</table>\n",
              "</div>"
            ],
            "text/plain": [
              "   userId_x                    movie  rating_x  userId_y  rating_y\n",
              "0       6.0         Toy Story (1995)       5.0      11.0       4.5\n",
              "1       6.0  Grumpier Old Men (1995)       3.0       NaN       NaN\n",
              "2       6.0           Sabrina (1995)       5.0       NaN       NaN\n",
              "3       NaN         GoldenEye (1995)       NaN      11.0       2.5"
            ]
          },
          "metadata": {
            "tags": []
          },
          "execution_count": 31
        }
      ]
    },
    {
      "cell_type": "code",
      "metadata": {
        "ExecuteTime": {
          "end_time": "2020-10-27T12:25:15.770161Z",
          "start_time": "2020-10-27T12:25:15.764177Z"
        },
        "id": "FiA9kcDrscrC"
      },
      "source": [
        "#IBCF\n",
        "#Fetching ratings for Toy Story\n",
        "Toy_user_rating = user_movies_df['Sabrina (1995)']  "
      ],
      "execution_count": 32,
      "outputs": []
    },
    {
      "cell_type": "code",
      "metadata": {
        "ExecuteTime": {
          "end_time": "2020-10-27T12:25:18.462618Z",
          "start_time": "2020-10-27T12:25:18.453644Z"
        },
        "colab": {
          "base_uri": "https://localhost:8080/"
        },
        "id": "s6uo7csIscrD",
        "outputId": "a78afa88-5dea-4349-fc40-ff820ce89da3"
      },
      "source": [
        "Toy_user_rating"
      ],
      "execution_count": 33,
      "outputs": [
        {
          "output_type": "execute_result",
          "data": {
            "text/plain": [
              "3       0.0\n",
              "6       0.0\n",
              "8       0.0\n",
              "10      0.0\n",
              "11      0.0\n",
              "       ... \n",
              "7044    0.0\n",
              "7070    0.0\n",
              "7080    3.0\n",
              "7087    0.0\n",
              "7105    4.0\n",
              "Name: Sabrina (1995), Length: 4081, dtype: float64"
            ]
          },
          "metadata": {
            "tags": []
          },
          "execution_count": 33
        }
      ]
    },
    {
      "cell_type": "code",
      "metadata": {
        "ExecuteTime": {
          "end_time": "2020-10-27T12:28:29.180497Z",
          "start_time": "2020-10-27T12:28:28.942592Z"
        },
        "id": "JKkk-auGscrD"
      },
      "source": [
        "#Finding the correlation with different movies\n",
        "similar_to_Toy = user_movies_df.corrwith(Toy_user_rating) \n"
      ],
      "execution_count": 34,
      "outputs": []
    },
    {
      "cell_type": "code",
      "metadata": {
        "ExecuteTime": {
          "end_time": "2020-10-27T12:28:31.317666Z",
          "start_time": "2020-10-27T12:28:31.308691Z"
        },
        "colab": {
          "base_uri": "https://localhost:8080/"
        },
        "id": "7DiXusbjscrD",
        "outputId": "2459440b-67d8-4881-8d44-cf87a3caecae"
      },
      "source": [
        "similar_to_Toy.head(10) "
      ],
      "execution_count": 35,
      "outputs": [
        {
          "output_type": "execute_result",
          "data": {
            "text/plain": [
              "movie\n",
              "Father of the Bride Part II (1995)    0.287343\n",
              "GoldenEye (1995)                     -0.021940\n",
              "Grumpier Old Men (1995)               0.277298\n",
              "Heat (1995)                           0.059740\n",
              "Jumanji (1995)                        0.054658\n",
              "Sabrina (1995)                        1.000000\n",
              "Sudden Death (1995)                   0.130281\n",
              "Tom and Huck (1995)                   0.123087\n",
              "Toy Story (1995)                      0.002798\n",
              "Waiting to Exhale (1995)              0.132838\n",
              "dtype: float64"
            ]
          },
          "metadata": {
            "tags": []
          },
          "execution_count": 35
        }
      ]
    },
    {
      "cell_type": "code",
      "metadata": {
        "ExecuteTime": {
          "end_time": "2020-10-27T12:28:40.775060Z",
          "start_time": "2020-10-27T12:28:40.736164Z"
        },
        "colab": {
          "base_uri": "https://localhost:8080/",
          "height": 235
        },
        "id": "dw7zm7tSscrE",
        "outputId": "18b75135-de80-4a11-b3ce-aebdd34c1422"
      },
      "source": [
        "\n",
        "corr_Toy = pd.DataFrame(similar_to_Toy, columns=['Correlation'])\n",
        "corr_Toy.dropna(inplace=True)\n",
        "corr_Toy.head()"
      ],
      "execution_count": 36,
      "outputs": [
        {
          "output_type": "execute_result",
          "data": {
            "text/html": [
              "<div>\n",
              "<style scoped>\n",
              "    .dataframe tbody tr th:only-of-type {\n",
              "        vertical-align: middle;\n",
              "    }\n",
              "\n",
              "    .dataframe tbody tr th {\n",
              "        vertical-align: top;\n",
              "    }\n",
              "\n",
              "    .dataframe thead th {\n",
              "        text-align: right;\n",
              "    }\n",
              "</style>\n",
              "<table border=\"1\" class=\"dataframe\">\n",
              "  <thead>\n",
              "    <tr style=\"text-align: right;\">\n",
              "      <th></th>\n",
              "      <th>Correlation</th>\n",
              "    </tr>\n",
              "    <tr>\n",
              "      <th>movie</th>\n",
              "      <th></th>\n",
              "    </tr>\n",
              "  </thead>\n",
              "  <tbody>\n",
              "    <tr>\n",
              "      <th>Father of the Bride Part II (1995)</th>\n",
              "      <td>0.287343</td>\n",
              "    </tr>\n",
              "    <tr>\n",
              "      <th>GoldenEye (1995)</th>\n",
              "      <td>-0.021940</td>\n",
              "    </tr>\n",
              "    <tr>\n",
              "      <th>Grumpier Old Men (1995)</th>\n",
              "      <td>0.277298</td>\n",
              "    </tr>\n",
              "    <tr>\n",
              "      <th>Heat (1995)</th>\n",
              "      <td>0.059740</td>\n",
              "    </tr>\n",
              "    <tr>\n",
              "      <th>Jumanji (1995)</th>\n",
              "      <td>0.054658</td>\n",
              "    </tr>\n",
              "  </tbody>\n",
              "</table>\n",
              "</div>"
            ],
            "text/plain": [
              "                                    Correlation\n",
              "movie                                          \n",
              "Father of the Bride Part II (1995)     0.287343\n",
              "GoldenEye (1995)                      -0.021940\n",
              "Grumpier Old Men (1995)                0.277298\n",
              "Heat (1995)                            0.059740\n",
              "Jumanji (1995)                         0.054658"
            ]
          },
          "metadata": {
            "tags": []
          },
          "execution_count": 36
        }
      ]
    },
    {
      "cell_type": "code",
      "metadata": {
        "ExecuteTime": {
          "end_time": "2020-10-27T12:28:43.626423Z",
          "start_time": "2020-10-27T12:28:43.614453Z"
        },
        "colab": {
          "base_uri": "https://localhost:8080/",
          "height": 235
        },
        "id": "3TVJc4htscrE",
        "outputId": "818c7d05-3f73-4a0b-8621-9902e2af2ad4"
      },
      "source": [
        "corr_Toy[corr_Toy['Correlation'] > 0].sort_values(by='Correlation', ascending=False).head(5)  "
      ],
      "execution_count": 37,
      "outputs": [
        {
          "output_type": "execute_result",
          "data": {
            "text/html": [
              "<div>\n",
              "<style scoped>\n",
              "    .dataframe tbody tr th:only-of-type {\n",
              "        vertical-align: middle;\n",
              "    }\n",
              "\n",
              "    .dataframe tbody tr th {\n",
              "        vertical-align: top;\n",
              "    }\n",
              "\n",
              "    .dataframe thead th {\n",
              "        text-align: right;\n",
              "    }\n",
              "</style>\n",
              "<table border=\"1\" class=\"dataframe\">\n",
              "  <thead>\n",
              "    <tr style=\"text-align: right;\">\n",
              "      <th></th>\n",
              "      <th>Correlation</th>\n",
              "    </tr>\n",
              "    <tr>\n",
              "      <th>movie</th>\n",
              "      <th></th>\n",
              "    </tr>\n",
              "  </thead>\n",
              "  <tbody>\n",
              "    <tr>\n",
              "      <th>Sabrina (1995)</th>\n",
              "      <td>1.000000</td>\n",
              "    </tr>\n",
              "    <tr>\n",
              "      <th>Father of the Bride Part II (1995)</th>\n",
              "      <td>0.287343</td>\n",
              "    </tr>\n",
              "    <tr>\n",
              "      <th>Grumpier Old Men (1995)</th>\n",
              "      <td>0.277298</td>\n",
              "    </tr>\n",
              "    <tr>\n",
              "      <th>Waiting to Exhale (1995)</th>\n",
              "      <td>0.132838</td>\n",
              "    </tr>\n",
              "    <tr>\n",
              "      <th>Sudden Death (1995)</th>\n",
              "      <td>0.130281</td>\n",
              "    </tr>\n",
              "  </tbody>\n",
              "</table>\n",
              "</div>"
            ],
            "text/plain": [
              "                                    Correlation\n",
              "movie                                          \n",
              "Sabrina (1995)                         1.000000\n",
              "Father of the Bride Part II (1995)     0.287343\n",
              "Grumpier Old Men (1995)                0.277298\n",
              "Waiting to Exhale (1995)               0.132838\n",
              "Sudden Death (1995)                    0.130281"
            ]
          },
          "metadata": {
            "tags": []
          },
          "execution_count": 37
        }
      ]
    },
    {
      "cell_type": "code",
      "metadata": {
        "id": "BSOQqH4FscrF"
      },
      "source": [
        ""
      ],
      "execution_count": 37,
      "outputs": []
    }
  ]
}